{
 "cells": [
  {
   "cell_type": "code",
   "execution_count": 1,
   "metadata": {},
   "outputs": [
    {
     "name": "stdout",
     "output_type": "stream",
     "text": [
      "(576, 256, 176, 3)\n",
      "(576, 1)\n"
     ]
    }
   ],
   "source": [
    "\n",
    "import os\n",
    "import numpy as np\n",
    "from PIL import Image \n",
    "\n",
    "\n",
    "list1 = []\n",
    "list2 = []\n",
    "\n",
    "\n",
    "path = \"./data-release/traindata/\" \n",
    "\n",
    "files= os.listdir(path)\n",
    "\n",
    "for i in files:\n",
    "  path = \"./data-release/traindata/{}\".format(i)\n",
    "  \n",
    "  files1= os.listdir(path)\n",
    "  for a in files1:\n",
    "  \n",
    "    img = Image.open(path+\"/\"+a)\n",
    "   \n",
    "    img = np.array(img)\n",
    "    \n",
    "    list1.append(img)\n",
    "  \n",
    "    list2.append([i])\n",
    "\n",
    "\n",
    "x_train = np.array(list1)\n",
    "y_train = np.array(list2)\n",
    "print(x_train.shape)\n",
    "print(y_train.shape)\n",
    "\n",
    "np.save('x_train.npy',x_train)\n",
    "np.save('y_train.npy',y_train)"
   ]
  }
 ],
 "metadata": {
  "kernelspec": {
   "display_name": "Python 3",
   "language": "python",
   "name": "python3"
  },
  "language_info": {
   "codemirror_mode": {
    "name": "ipython",
    "version": 3
   },
   "file_extension": ".py",
   "mimetype": "text/x-python",
   "name": "python",
   "nbconvert_exporter": "python",
   "pygments_lexer": "ipython3",
   "version": "3.7.4"
  }
 },
 "nbformat": 4,
 "nbformat_minor": 2
}
